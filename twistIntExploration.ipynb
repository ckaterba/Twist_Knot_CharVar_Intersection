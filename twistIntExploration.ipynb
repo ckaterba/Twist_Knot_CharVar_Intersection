{
 "cells": [
  {
   "cell_type": "markdown",
   "metadata": {},
   "source": [
    "# Exploring twist knot intersections\n",
    "\n",
    "This notebook includes many computational aspects of our project, including small checks on the varacity of the recursive related results. \n",
    "\n",
    "Eventually this could be edited and posted to the arxiv along with the paper to assist reading/help others play around with the ideas. \n",
    "\n",
    "## Recrusive stuff"
   ]
  },
  {
   "cell_type": "code",
   "execution_count": 181,
   "metadata": {},
   "outputs": [],
   "source": [
    "var('x,y,z,l,t, L')\n",
    "\n",
    "\n",
    "def Cheb(n, zero, one, fac, inhom = 0):\n",
    "    ###\n",
    "    # generic function used to define recursive functions throught paper\n",
    "    ###\n",
    "    if n == 0:\n",
    "        return zero\n",
    "    if n == 1:\n",
    "        return one\n",
    "    if n > 1:\n",
    "        return expand(fac*Cheb(n-1, zero, one, fac, inhom) - Cheb(n-2, zero, one, fac, inhom) + inhom)\n",
    "    if n < 0:\n",
    "        return expand(fac*Cheb(n+1, zero, one, fac, inhom) - Cheb(n+2, zero, one, fac, inhom) + inhom)\n",
    "    \n",
    "def a(n):\n",
    "    return Cheb(n, 0, 1, l)\n",
    "\n",
    "def b(n):\n",
    "    return Cheb(n, 1, l+1, l)\n",
    "\n",
    "def c(n):\n",
    "    if n % 2 == 0:\n",
    "        return a(n/2)\n",
    "    if n % 2 == 1:\n",
    "        return b((n-1)/2)\n",
    "    \n",
    "def d(n):\n",
    "    return Cheb(n, 1, l - 1, l)\n",
    "\n",
    "def f(n):\n",
    "    return Cheb(n, 2, l, l)\n",
    "\n",
    "def p(n):\n",
    "    return Cheb(n, 0, 1-l, l^2 - 2, 2- l)\n",
    "\n",
    "def q(n):\n",
    "    return Cheb(n,1, -1 + l + l^2, (l^2 -2))\n",
    "\n",
    "P = -t*y^2 + t^2 + 2*y^2 -2\n",
    "\n",
    "def phi(n):\n",
    "    return Cheb(n, -1, 1- y^2 - t + y^2*t - t^2, P)\n",
    "\n",
    "def psi(n):\n",
    "    return Cheb(n, 1, l^2 - l*y^2 + l + y^2 -1, l^2 -2, y^2*(2 - l))\n"
   ]
  },
  {
   "cell_type": "markdown",
   "metadata": {},
   "source": [
    "### Checking lemma 4\n",
    "\n",
    "- I think we can trop all of the absolute values in the statement of this lemma, they're incorrect for part 2 anyway. \n",
    "\n",
    "- We can drop them because $c_n = -c_{-n}$; this fixes part 2 "
   ]
  },
  {
   "cell_type": "code",
   "execution_count": 257,
   "metadata": {},
   "outputs": [
    {
     "name": "stdout",
     "output_type": "stream",
     "text": [
      "0\n",
      "0\n",
      "0\n",
      "0\n",
      "0\n",
      "0\n",
      "0\n",
      "0\n",
      "0\n"
     ]
    }
   ],
   "source": [
    "for n in range(1,10):\n",
    "    print c(n) + c(-n)"
   ]
  },
  {
   "cell_type": "code",
   "execution_count": 179,
   "metadata": {},
   "outputs": [
    {
     "name": "stdout",
     "output_type": "stream",
     "text": [
      "0\n",
      "0\n",
      "0\n",
      "0\n",
      "0\n",
      "0\n",
      "0\n",
      "0\n",
      "0\n",
      "0\n",
      "0\n",
      "0\n",
      "0\n",
      "0\n"
     ]
    }
   ],
   "source": [
    "for n in range(1,15):\n",
    "    print( expand(p(n) + simplify(factor(c(4*n + 2))/factor(c(2*n + 1)))*c(2*n)))"
   ]
  },
  {
   "cell_type": "code",
   "execution_count": 180,
   "metadata": {
    "scrolled": false
   },
   "outputs": [
    {
     "name": "stdout",
     "output_type": "stream",
     "text": [
      "0\n",
      "0\n",
      "0\n",
      "0\n",
      "0\n",
      "0\n",
      "0\n",
      "0\n",
      "0\n",
      "0\n",
      "0\n",
      "0\n",
      "0\n",
      "0\n",
      "0\n",
      "0\n"
     ]
    }
   ],
   "source": [
    "for n in range(-8,8):\n",
    "    print( q(n) - c(4*n+1))"
   ]
  },
  {
   "cell_type": "markdown",
   "metadata": {},
   "source": [
    "### Checking Proposition 5\n"
   ]
  },
  {
   "cell_type": "code",
   "execution_count": 255,
   "metadata": {},
   "outputs": [],
   "source": [
    "### To do here..."
   ]
  },
  {
   "cell_type": "markdown",
   "metadata": {},
   "source": [
    "### Checking Proposition 8\n",
    "\n",
    "There's a typo in draft zero, it should read \n",
    "$$\\psi_n(y, P) = \\phi_n \\cdot \\left( \\phi_n + a_n(P)\\cdot (2t - y^2)\\right)$$\n"
   ]
  },
  {
   "cell_type": "code",
   "execution_count": 240,
   "metadata": {},
   "outputs": [
    {
     "name": "stdout",
     "output_type": "stream",
     "text": [
      "0\n",
      "0\n",
      "0\n",
      "0\n",
      "0\n",
      "0\n",
      "0\n",
      "0\n",
      "0\n"
     ]
    }
   ],
   "source": [
    "for n in range(-10, -1):\n",
    "    print(expand(phi(n)*(phi(n) + a(n)(P)*(2*t - y^2))) - expand(psi(n)(y = y, l = P)))"
   ]
  },
  {
   "cell_type": "code",
   "execution_count": 242,
   "metadata": {},
   "outputs": [
    {
     "name": "stdout",
     "output_type": "stream",
     "text": [
      "0\n",
      "0\n",
      "0\n",
      "0\n",
      "0\n",
      "0\n",
      "0\n",
      "0\n"
     ]
    }
   ],
   "source": [
    "for n in range(2, 10):\n",
    "    print(expand(phi(n)*(phi(n) + a(n)(P)*(2*t - y^2))) - expand(psi(n)(y = y, l = P)))"
   ]
  },
  {
   "cell_type": "markdown",
   "metadata": {},
   "source": [
    "### Lemma 9 Check"
   ]
  },
  {
   "cell_type": "code",
   "execution_count": 247,
   "metadata": {},
   "outputs": [
    {
     "name": "stdout",
     "output_type": "stream",
     "text": [
      "-(t*y^2 - t^2 - y^2)*(y^2 - t - 2)\n",
      "-(t*y^2 - t^2 - y^2)*(y^2 - t - 2)\n",
      "-(t*y^2 - t^2 - y^2)*(y^2 - t - 2)\n",
      "-(t*y^2 - t^2 - y^2)*(y^2 - t - 2)\n",
      "-(t*y^2 - t^2 - y^2)*(y^2 - t - 2)\n",
      "-(t*y^2 - t^2 - y^2)*(y^2 - t - 2)\n",
      "-(t*y^2 - t^2 - y^2)*(y^2 - t - 2)\n",
      "-(t*y^2 - t^2 - y^2)*(y^2 - t - 2)\n",
      "-(t*y^2 - t^2 - y^2)*(y^2 - t - 2)\n",
      "-(t*y^2 - t^2 - y^2)*(y^2 - t - 2)\n",
      "-(t*y^2 - t^2 - y^2)*(y^2 - t - 2)\n",
      "-(t*y^2 - t^2 - y^2)*(y^2 - t - 2)\n",
      "-(t*y^2 - t^2 - y^2)*(y^2 - t - 2)\n",
      "-(t*y^2 - t^2 - y^2)*(y^2 - t - 2)\n",
      "-(t*y^2 - t^2 - y^2)*(y^2 - t - 2)\n",
      "-(t*y^2 - t^2 - y^2)*(y^2 - t - 2)\n",
      "-(t*y^2 - t^2 - y^2)*(y^2 - t - 2)\n",
      "-(t*y^2 - t^2 - y^2)*(y^2 - t - 2)\n",
      "-(t*y^2 - t^2 - y^2)*(y^2 - t - 2)\n",
      "-(t*y^2 - t^2 - y^2)*(y^2 - t - 2)\n"
     ]
    }
   ],
   "source": [
    "for n in range(-10, 10):\n",
    "    print( factor( phi(n+1)*phi(n-1) - phi(n)*phi(n)))"
   ]
  },
  {
   "cell_type": "code",
   "execution_count": 252,
   "metadata": {},
   "outputs": [
    {
     "name": "stdout",
     "output_type": "stream",
     "text": [
      "-t*y^2 + t^2 + 2*t\n",
      "-t*y^2 + t^2 + 2*t\n",
      "-t*y^2 + t^2 + 2*t\n",
      "-t*y^2 + t^2 + 2*t\n",
      "-t*y^2 + t^2 + 2*t\n",
      "-t*y^2 + t^2 + 2*t\n",
      "-t*y^2 + t^2 + 2*t\n"
     ]
    }
   ],
   "source": [
    "for n in range(3, 10):\n",
    "    print(expand(phi(n+1)*(a(n-1)(P)) + phi(n-1)*( a(n+1)(P)) - 2*phi(n)*(a(n)(P))))"
   ]
  },
  {
   "cell_type": "code",
   "execution_count": 254,
   "metadata": {},
   "outputs": [
    {
     "name": "stdout",
     "output_type": "stream",
     "text": [
      "-t*y^2 + t^2 + 2*t\n",
      "-t*y^2 + t^2 + 2*t\n",
      "-t*y^2 + t^2 + 2*t\n",
      "-t*y^2 + t^2 + 2*t\n",
      "-t*y^2 + t^2 + 2*t\n",
      "-t*y^2 + t^2 + 2*t\n",
      "-t*y^2 + t^2 + 2*t\n"
     ]
    }
   ],
   "source": [
    "for n in range(-10, -3):\n",
    "    print(expand(phi(n+1)*(a(n-1)(P)) + phi(n-1)*( a(n+1)(P)) - 2*phi(n)*(a(n)(P))))"
   ]
  },
  {
   "cell_type": "markdown",
   "metadata": {},
   "source": [
    "## Section 5 work "
   ]
  },
  {
   "cell_type": "code",
   "execution_count": 302,
   "metadata": {},
   "outputs": [],
   "source": [
    "R.<l, L, y> = PolynomialRing(QQ, 3)\n",
    "\n",
    "def C(k):\n",
    "    I = ideal([cyclotomic_polynomial(k, L), L*l - L^2 - 1])\n",
    "    J = I.elimination_ideal([L,y])\n",
    "    return J.gens()[0]"
   ]
  },
  {
   "cell_type": "code",
   "execution_count": 330,
   "metadata": {},
   "outputs": [
    {
     "data": {
      "text/plain": [
       "(l + 1) * (l^3 - 3*l + 1)"
      ]
     },
     "execution_count": 330,
     "metadata": {},
     "output_type": "execute_result"
    }
   ],
   "source": [
    "factor(c(9))"
   ]
  },
  {
   "cell_type": "code",
   "execution_count": 290,
   "metadata": {},
   "outputs": [
    {
     "name": "stdout",
     "output_type": "stream",
     "text": [
      "l + 1\n",
      "l^3 - 3*l + 1\n"
     ]
    }
   ],
   "source": [
    "for i in [3,9]:\n",
    "    print( C(i))"
   ]
  },
  {
   "cell_type": "markdown",
   "metadata": {},
   "source": [
    "We need to determine the defining equation of $y$ in the intersection $\\mathfrak{X}_n \\cap \\mathfrak{X}_{n+k}$.  \n",
    "\n",
    "The projection of the intersection in $\\mathfrak{W}$ into the $yl$-plane is cut out by the ideal \n",
    "$$ \\langle \\psi_n, c_k \\rangle,$$ \n",
    "but at the end of the day, we only need to consider characters of reps with $|\\rho ( \\lambda_1 ) | = k$, so we instead study the ideal\n",
    "$$ \\langle \\psi_n, C_k \\rangle $$ \n",
    "The defining equation for the $y$-coordinate of the intersection can be calculated in a few ways:\n",
    "\n",
    "- Using elimination ideals / Groebner bases\n",
    "\n",
    "- Using resultants\n",
    "\n",
    "In the paper, we used resultants because of Apostles work of the resultants of cyclotomics\n",
    "\n",
    "In the example calculations below, we use define both.  Note that sometimes the two aren't identically equal; this occurs when they differ by a sign or when $y = 0$. "
   ]
  },
  {
   "cell_type": "code",
   "execution_count": 322,
   "metadata": {},
   "outputs": [],
   "source": [
    "def intersectGrob(n,k):\n",
    "    I = ideal([psi(n), C(k)])\n",
    "    J = I.elimination_ideal([l,L])\n",
    "    return J.gens()[0]\n",
    "\n",
    "def intersectRes(n,k):\n",
    "    return psi(n).resultant(C(k), l)\n",
    "    \n",
    "    "
   ]
  },
  {
   "cell_type": "code",
   "execution_count": 325,
   "metadata": {},
   "outputs": [
    {
     "name": "stdout",
     "output_type": "stream",
     "text": [
      "0\n",
      "0\n",
      "0\n",
      "0\n",
      "2*y^6 - 20*y^4 + 34*y^2 - 2\n",
      "0\n",
      "-y^6 + y^2\n"
     ]
    }
   ],
   "source": [
    "for n in range(3,10):\n",
    "    print(intersectGrob(2, n) - intersectRes(2,n))"
   ]
  },
  {
   "cell_type": "code",
   "execution_count": 331,
   "metadata": {},
   "outputs": [
    {
     "data": {
      "text/plain": [
       "y^6 - 10*y^4 + 17*y^2 - 1"
      ]
     },
     "execution_count": 331,
     "metadata": {},
     "output_type": "execute_result"
    }
   ],
   "source": [
    "intersectGrob(2,7)"
   ]
  },
  {
   "cell_type": "code",
   "execution_count": 332,
   "metadata": {},
   "outputs": [
    {
     "data": {
      "text/plain": [
       "-y^6 + 10*y^4 - 17*y^2 + 1"
      ]
     },
     "execution_count": 332,
     "metadata": {},
     "output_type": "execute_result"
    }
   ],
   "source": [
    "intersectRes(2,7)"
   ]
  },
  {
   "cell_type": "code",
   "execution_count": 328,
   "metadata": {},
   "outputs": [
    {
     "data": {
      "text/plain": [
       "y^2"
      ]
     },
     "execution_count": 328,
     "metadata": {},
     "output_type": "execute_result"
    }
   ],
   "source": [
    "intersectGrob(2,9)"
   ]
  },
  {
   "cell_type": "code",
   "execution_count": 329,
   "metadata": {},
   "outputs": [
    {
     "data": {
      "text/plain": [
       "y^6"
      ]
     },
     "execution_count": 329,
     "metadata": {},
     "output_type": "execute_result"
    }
   ],
   "source": [
    "intersectRes(2,9)"
   ]
  },
  {
   "cell_type": "markdown",
   "metadata": {},
   "source": [
    "Lemma 18 is key to the proof of the main result (though it's statement migh tn need a bit of work). Ideal:  $\\psi_n$ is quadriatic in $y$ with $\\psi_n = p_n y^2 + q_n$.  By Lemma 18, the leading coefficient of $\\text{res}_l ( \\psi_n, C_k )$ is $\\text{res}_l ( p_n, C_k)$ when $p_n$ and $C_k$ don't share roots.  When they do, the intersection is empty \\[Check this\\]."
   ]
  },
  {
   "cell_type": "code",
   "execution_count": 348,
   "metadata": {},
   "outputs": [],
   "source": [
    "def leadCoef(n, k):\n",
    "    res = p(n).resultant(C(k), l)\n",
    "    return res"
   ]
  },
  {
   "cell_type": "code",
   "execution_count": 349,
   "metadata": {},
   "outputs": [
    {
     "data": {
      "text/plain": [
       "4"
      ]
     },
     "execution_count": 349,
     "metadata": {},
     "output_type": "execute_result"
    }
   ],
   "source": [
    "leadCoef(2,5)"
   ]
  },
  {
   "cell_type": "code",
   "execution_count": 350,
   "metadata": {},
   "outputs": [
    {
     "name": "stdout",
     "output_type": "stream",
     "text": [
      "1\n",
      "1\n",
      "4\n",
      "1\n",
      "-1\n",
      "2\n",
      "1\n",
      "1\n",
      "1\n",
      "-3\n",
      "-1\n",
      "-1\n"
     ]
    }
   ],
   "source": [
    "for k in range(3, 15):\n",
    "    print( intersectRes(2, k).coefficients()[0])"
   ]
  },
  {
   "cell_type": "code",
   "execution_count": 370,
   "metadata": {},
   "outputs": [
    {
     "name": "stdout",
     "output_type": "stream",
     "text": [
      "-1\n",
      "0\n",
      "4\n",
      "-1\n",
      "1\n",
      "2\n",
      "-1\n",
      "0\n",
      "-1\n",
      "-3\n",
      "-1\n",
      "1\n",
      "1\n",
      "-2\n",
      "1\n",
      "-1\n",
      "-1\n",
      "-20\n",
      "1\n",
      "1\n",
      "1\n",
      "1\n"
     ]
    }
   ],
   "source": [
    "for k in range(3, 25):\n",
    "    print( leadCoef(2,k))"
   ]
  },
  {
   "cell_type": "markdown",
   "metadata": {},
   "source": [
    "When there is a difference above (ignoring signs), `leadCoef` is zero because $p_n$ and $C_k$ share a root.  Looking at the defining equation of the intersection, we see that this implies that the intersection will be empty.\n",
    "\n",
    "By examining the zeroes of $p_n$ and $C_k$ we can determine precisely when the interesection will be empty.  \n",
    "\n",
    "#### Empty Intersections:\n",
    "Double check this, but it looks like if $k$ divides $4n+2$ or $2n$, but  not $2n+1$, then $p_n$ and $C_k$ will share a root, leading to an empty intersection.  This should be all of them.\n",
    "\n",
    "For example, if $n =7$, then all the values of $k$ that fit the criteria above are $k = 6,7,10,14,30$. "
   ]
  },
  {
   "cell_type": "code",
   "execution_count": 376,
   "metadata": {},
   "outputs": [
    {
     "name": "stdout",
     "output_type": "stream",
     "text": [
      "0\n",
      "0\n",
      "0\n",
      "0\n",
      "0\n"
     ]
    }
   ],
   "source": [
    "for n in [6,7,10,14,30]:\n",
    "    print( leadCoef(7, n))"
   ]
  },
  {
   "cell_type": "code",
   "execution_count": 378,
   "metadata": {},
   "outputs": [
    {
     "name": "stdout",
     "output_type": "stream",
     "text": [
      "1\n",
      "1\n",
      "1\n",
      "-1\n",
      "-125\n",
      "1\n",
      "1\n",
      "1\n",
      "1\n",
      "-4\n"
     ]
    }
   ],
   "source": [
    "for n in range(31,41):\n",
    "    print( leadCoef(7, n))"
   ]
  },
  {
   "cell_type": "markdown",
   "metadata": {},
   "source": [
    "#### Integral and Non-Integral points\n",
    "\n",
    "Is there a better way to describe the main results? Here's an attempt.\n",
    "\n",
    "For $n \\in \\mathbb{Z}$ let $\\text{div}(n)$ denote the set of positive divisors of $n$.  \n",
    "\n",
    "##### Theorem:\n",
    "\n",
    "Fix $n \\in \\mathbb{Z}$ and $k \\in \\mathbb{N}$.  \n",
    "\n",
    "Set $\\mathcal{D} = (\\text{div}(4n+2) \\cup \\text{div}(2n)) - \\text{div}(2n+1)$. \n",
    "\n",
    "Let $\\mathcal{I}_{n,k}$ denote the subset of $\\mathfrak{X}_n \\cap \\mathfrak{X}_{n+k}$ consisiting of characters of representations $\\rho \\colon \\pi_1 ( W) \\to \\text{SL}_2 ( \\mathbb{C} )$ such that $| \\rho (\\lambda_1) | = k$.  \n",
    "\n",
    "- If $k=1$, $2$, or $k \\in \\mathcal{D}$, then $\\mathcal{I}_{n,k} = \\emptyset$.\n",
    "\n",
    "- If there is a $d \\in \\mathcal{D}$ such that either $$ \\frac{k}{d} \\quad \\text{or} \\quad \\frac{d}{k}$$ is a prime power, then $\\mathcal{I}_{n,k}$ contains only ANI characters. \n",
    "\n",
    "- Otherwise, $\\mathcal{I}_{n,k}$ contains only algebraic and integral characters.\n",
    "\n",
    "\n"
   ]
  },
  {
   "cell_type": "code",
   "execution_count": 467,
   "metadata": {},
   "outputs": [],
   "source": [
    "#generates a list of all values of k that should give empty intersections\n",
    "#also crucial for main result, since d/k and k/d being prime powers determines\n",
    "#integrality\n",
    "\n",
    "def aniDiv(n):\n",
    "    list1 = divisors(4*n+2)\n",
    "    list2 = divisors(2*n)\n",
    "    list3 = [1,2]\n",
    "    list4 = divisors(2*n+1)\n",
    "    main = union(list1, list2)\n",
    "    remove = union(list3,list4)\n",
    "    return [i for i in main if i not in remove]"
   ]
  },
  {
   "cell_type": "code",
   "execution_count": 468,
   "metadata": {},
   "outputs": [
    {
     "data": {
      "text/plain": [
       "[4, 10]"
      ]
     },
     "execution_count": 468,
     "metadata": {},
     "output_type": "execute_result"
    }
   ],
   "source": [
    "aniDiv(2)"
   ]
  },
  {
   "cell_type": "code",
   "execution_count": null,
   "metadata": {},
   "outputs": [],
   "source": []
  },
  {
   "cell_type": "code",
   "execution_count": 469,
   "metadata": {},
   "outputs": [],
   "source": [
    "#gets around coercing rational to interger error in the is_prime_power function\n",
    "def isPP(n):\n",
    "    if int(n) == n:\n",
    "        return is_prime_power(n)\n",
    "    else: \n",
    "        return False\n",
    "# implements our theorem, predicting empty, ANI, or integral intersection\n",
    "# just from n and k\n",
    "def isANI(n, k):\n",
    "    div = aniDiv(n)\n",
    "    listA = [isPP(i/k) for i in div]\n",
    "    listB = [isPP(k/i) for i in div]\n",
    "    total = sum(listA) + sum(listB)\n",
    "    if k in div:\n",
    "        return 'Empty'\n",
    "    if total == 0:\n",
    "        return 'Interal'\n",
    "    else:\n",
    "        return 'ANI'\n",
    "    "
   ]
  },
  {
   "cell_type": "code",
   "execution_count": 448,
   "metadata": {},
   "outputs": [],
   "source": []
  },
  {
   "cell_type": "code",
   "execution_count": 472,
   "metadata": {},
   "outputs": [
    {
     "name": "stdout",
     "output_type": "stream",
     "text": [
      "[3, -1, 'Interal']\n",
      "[4, -1, 'Interal']\n",
      "[5, 0, 'Empty']\n",
      "[6, -1, 'Interal']\n",
      "[7, -1, 'Interal']\n",
      "[8, -1, 'Interal']\n",
      "[9, -1, 'Interal']\n",
      "[10, 0, 'Empty']\n",
      "[11, -32, 'ANI']\n",
      "[12, 1, 'Interal']\n",
      "[13, -1, 'Interal']\n",
      "[14, 1, 'Interal']\n",
      "[15, -9, 'ANI']\n",
      "[16, -1, 'Interal']\n",
      "[17, -1, 'Interal']\n",
      "[18, -1, 'Interal']\n",
      "[19, 1, 'Interal']\n",
      "[20, 16, 'ANI']\n",
      "[21, 1, 'Interal']\n",
      "[22, 0, 'Empty']\n",
      "[23, -1, 'Interal']\n",
      "[24, 1, 'Interal']\n",
      "[25, 25, 'ANI']\n",
      "[26, 1, 'Interal']\n",
      "[27, -1, 'Interal']\n",
      "[28, 1, 'Interal']\n",
      "[29, 1, 'Interal']\n",
      "[30, -9, 'ANI']\n",
      "[31, 1, 'Interal']\n",
      "[32, -1, 'Interal']\n",
      "[33, 1, 'Interal']\n",
      "[34, 1, 'Interal']\n",
      "[35, -49, 'ANI']\n",
      "[36, 1, 'Interal']\n",
      "[37, -1, 'Interal']\n",
      "[38, -1, 'Interal']\n",
      "[39, 1, 'Interal']\n",
      "[40, 16, 'ANI']\n",
      "[41, 1, 'Interal']\n",
      "[42, 1, 'Interal']\n",
      "[43, -1, 'Interal']\n",
      "[44, -32, 'ANI']\n",
      "[45, -9, 'ANI']\n",
      "[46, -1, 'Interal']\n",
      "[47, -1, 'Interal']\n",
      "[48, 1, 'Interal']\n",
      "[49, -1, 'Interal']\n",
      "[50, 25, 'ANI']\n",
      "[51, 1, 'Interal']\n",
      "[52, 1, 'Interal']\n",
      "[53, -1, 'Interal']\n",
      "[54, -1, 'Interal']\n",
      "[55, 121, 'ANI']\n",
      "[56, 1, 'Interal']\n",
      "[57, 1, 'Interal']\n",
      "[58, -1, 'Interal']\n",
      "[59, 1, 'Interal']\n",
      "[60, 1, 'Interal']\n",
      "[61, 1, 'Interal']\n",
      "[62, 1, 'Interal']\n",
      "[63, 1, 'Interal']\n",
      "[64, -1, 'Interal']\n",
      "[65, -169, 'ANI']\n",
      "[66, 243, 'ANI']\n",
      "[67, -1, 'Interal']\n",
      "[68, 1, 'Interal']\n",
      "[69, 1, 'Interal']\n",
      "[70, -49, 'ANI']\n",
      "[71, 1, 'Interal']\n",
      "[72, 1, 'Interal']\n",
      "[73, -1, 'Interal']\n",
      "[74, -1, 'Interal']\n",
      "[75, 1, 'Interal']\n",
      "[76, 1, 'Interal']\n",
      "[77, 1, 'Interal']\n",
      "[78, 1, 'Interal']\n",
      "[79, 1, 'Interal']\n",
      "[80, 16, 'ANI']\n",
      "[81, -1, 'Interal']\n",
      "[82, -1, 'Interal']\n",
      "[83, -1, 'Interal']\n",
      "[84, 1, 'Interal']\n",
      "[85, -289, 'ANI']\n",
      "[86, 1, 'Interal']\n",
      "[87, 1, 'Interal']\n",
      "[88, -32, 'ANI']\n",
      "[89, 1, 'Interal']\n",
      "[90, -9, 'ANI']\n",
      "[91, 1, 'Interal']\n",
      "[92, 1, 'Interal']\n",
      "[93, 1, 'Interal']\n",
      "[94, -1, 'Interal']\n",
      "[95, 361, 'ANI']\n",
      "[96, 1, 'Interal']\n",
      "[97, -1, 'Interal']\n",
      "[98, 1, 'Interal']\n",
      "[99, 1, 'Interal']\n"
     ]
    }
   ],
   "source": [
    "for k in range(3, 100):\n",
    "    print( [k, leadCoef(5, k), isANI(5, k)])"
   ]
  },
  {
   "cell_type": "code",
   "execution_count": null,
   "metadata": {},
   "outputs": [],
   "source": []
  },
  {
   "cell_type": "code",
   "execution_count": null,
   "metadata": {},
   "outputs": [],
   "source": []
  },
  {
   "cell_type": "code",
   "execution_count": null,
   "metadata": {},
   "outputs": [],
   "source": []
  },
  {
   "cell_type": "code",
   "execution_count": null,
   "metadata": {},
   "outputs": [],
   "source": []
  },
  {
   "cell_type": "code",
   "execution_count": null,
   "metadata": {},
   "outputs": [],
   "source": []
  },
  {
   "cell_type": "code",
   "execution_count": null,
   "metadata": {},
   "outputs": [],
   "source": []
  },
  {
   "cell_type": "code",
   "execution_count": null,
   "metadata": {},
   "outputs": [],
   "source": []
  }
 ],
 "metadata": {
  "kernelspec": {
   "display_name": "SageMath 8.8",
   "language": "sage",
   "name": "sagemath"
  },
  "language_info": {
   "codemirror_mode": {
    "name": "ipython",
    "version": 2
   },
   "file_extension": ".py",
   "mimetype": "text/x-python",
   "name": "python",
   "nbconvert_exporter": "python",
   "pygments_lexer": "ipython2",
   "version": "2.7.15"
  }
 },
 "nbformat": 4,
 "nbformat_minor": 2
}
